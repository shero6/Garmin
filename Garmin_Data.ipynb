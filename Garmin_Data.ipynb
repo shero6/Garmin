{
 "cells": [
  {
   "cell_type": "code",
   "execution_count": 1,
   "id": "879cca2c",
   "metadata": {},
   "outputs": [],
   "source": [
    "import pandas as pd\n",
    "import matplotlib.pyplot as plt\n",
    "import seaborn as sns\n",
    "import numpy as np\n",
    "from datetime import datetime, timedelta, timezone \n",
    "import re"
   ]
  },
  {
   "cell_type": "code",
   "execution_count": 2,
   "id": "34c6e7f7",
   "metadata": {},
   "outputs": [],
   "source": [
    "pd.set_option('display.max_rows', 5000)\n",
    "pd.set_option('display.max_columns', 5000)\n",
    "pd.set_option('display.width', 10000)"
   ]
  },
  {
   "cell_type": "code",
   "execution_count": 3,
   "id": "cbaf8782",
   "metadata": {},
   "outputs": [],
   "source": [
    "# import data \n",
    "df_activities = pd.read_csv(r\"/Users/dermotsheridan/Downloads/UCD/Project /garminproject/2021-10-11_garmin_connect_export/activities.csv\")"
   ]
  },
  {
   "cell_type": "code",
   "execution_count": null,
   "id": "4f3edd47",
   "metadata": {},
   "outputs": [],
   "source": [
    "#removes any duplicate activities \n",
    "df_activities.drop_duplicates(subset='Activity ID', inplace=True)"
   ]
  },
  {
   "cell_type": "code",
   "execution_count": 4,
   "id": "59a53327",
   "metadata": {},
   "outputs": [
    {
     "data": {
      "text/html": [
       "<div>\n",
       "<style scoped>\n",
       "    .dataframe tbody tr th:only-of-type {\n",
       "        vertical-align: middle;\n",
       "    }\n",
       "\n",
       "    .dataframe tbody tr th {\n",
       "        vertical-align: top;\n",
       "    }\n",
       "\n",
       "    .dataframe thead th {\n",
       "        text-align: right;\n",
       "    }\n",
       "</style>\n",
       "<table border=\"1\" class=\"dataframe\">\n",
       "  <thead>\n",
       "    <tr style=\"text-align: right;\">\n",
       "      <th></th>\n",
       "      <th>Start Time</th>\n",
       "      <th>End Time</th>\n",
       "      <th>Activity ID</th>\n",
       "      <th>Activity Name</th>\n",
       "      <th>Description</th>\n",
       "      <th>Location Name</th>\n",
       "      <th>Time Zone</th>\n",
       "      <th>Offset</th>\n",
       "      <th>Duration (h:m:s)</th>\n",
       "      <th>Elapsed Duration (h:m:s)</th>\n",
       "      <th>Moving Duration (h:m:s)</th>\n",
       "      <th>Activity Parent</th>\n",
       "      <th>Activity Type</th>\n",
       "      <th>Event Type</th>\n",
       "      <th>Device</th>\n",
       "      <th>Gear</th>\n",
       "      <th>Privacy</th>\n",
       "      <th>File Format</th>\n",
       "      <th>Distance (km)</th>\n",
       "      <th>Average Speed (km/h)</th>\n",
       "      <th>Average Speed (km/h or min/km)</th>\n",
       "      <th>Average Moving Speed (km/h)</th>\n",
       "      <th>Average Moving Speed (km/h or min/km)</th>\n",
       "      <th>Max. Speed (km/h)</th>\n",
       "      <th>Max. Speed (km/h or min/km)</th>\n",
       "      <th>Elevation Gain (m)</th>\n",
       "      <th>Elevation Loss (m)</th>\n",
       "      <th>Elevation Min. (m)</th>\n",
       "      <th>Elevation Max. (m)</th>\n",
       "      <th>Elevation Corrected</th>\n",
       "      <th>Begin Latitude (°DD)</th>\n",
       "      <th>Begin Longitude (°DD)</th>\n",
       "      <th>End Latitude (°DD)</th>\n",
       "      <th>End Longitude (°DD)</th>\n",
       "      <th>Max. Heart Rate (bpm)</th>\n",
       "      <th>Average Heart Rate (bpm)</th>\n",
       "      <th>Calories</th>\n",
       "      <th>VO2max</th>\n",
       "      <th>Aerobic Training Effect</th>\n",
       "      <th>Anaerobic Training Effect</th>\n",
       "      <th>Avg. Run Cadence</th>\n",
       "      <th>Max. Run Cadence</th>\n",
       "      <th>Stride Length</th>\n",
       "      <th>Steps</th>\n",
       "      <th>Avg. Cadence (rpm)</th>\n",
       "      <th>Max. Cadence (rpm)</th>\n",
       "      <th>Strokes</th>\n",
       "      <th>Avg. Temp (°C)</th>\n",
       "      <th>Min. Temp (°C)</th>\n",
       "      <th>Max. Temp (°C)</th>\n",
       "    </tr>\n",
       "  </thead>\n",
       "  <tbody>\n",
       "    <tr>\n",
       "      <th>0</th>\n",
       "      <td>2021-10-07T19:31:04+01:00</td>\n",
       "      <td>2021-10-07T19:56:05+01:00</td>\n",
       "      <td>7619674395</td>\n",
       "      <td>County Dublin Running</td>\n",
       "      <td>NaN</td>\n",
       "      <td>County Dublin</td>\n",
       "      <td>Europe/London</td>\n",
       "      <td>+01:00</td>\n",
       "      <td>00:25:01</td>\n",
       "      <td>00:25:01</td>\n",
       "      <td>00:20:37</td>\n",
       "      <td>Any Activity Type</td>\n",
       "      <td>Running</td>\n",
       "      <td>Uncategorized</td>\n",
       "      <td>fēnix 3 9.60.0.0</td>\n",
       "      <td>NaN</td>\n",
       "      <td>private</td>\n",
       "      <td>fit</td>\n",
       "      <td>3.99340</td>\n",
       "      <td>9.5760</td>\n",
       "      <td>06:16</td>\n",
       "      <td>11.623109</td>\n",
       "      <td>05:10</td>\n",
       "      <td>26.974800</td>\n",
       "      <td>02:13</td>\n",
       "      <td>33.0</td>\n",
       "      <td>37.0</td>\n",
       "      <td>-28.2</td>\n",
       "      <td>-13.4</td>\n",
       "      <td>False</td>\n",
       "      <td>53.369176</td>\n",
       "      <td>-6.185563</td>\n",
       "      <td>53.363610</td>\n",
       "      <td>-6.184597</td>\n",
       "      <td>181.0</td>\n",
       "      <td>163.0</td>\n",
       "      <td>374.0</td>\n",
       "      <td>49.0</td>\n",
       "      <td>3.6</td>\n",
       "      <td>NaN</td>\n",
       "      <td>122.98</td>\n",
       "      <td>211.0</td>\n",
       "      <td>130.04</td>\n",
       "      <td>2902.0</td>\n",
       "      <td>NaN</td>\n",
       "      <td>NaN</td>\n",
       "      <td>NaN</td>\n",
       "      <td>23.683376</td>\n",
       "      <td>22.0</td>\n",
       "      <td>28.0</td>\n",
       "    </tr>\n",
       "    <tr>\n",
       "      <th>1</th>\n",
       "      <td>2021-10-06T13:45:30+01:00</td>\n",
       "      <td>2021-10-06T14:03:15+01:00</td>\n",
       "      <td>7619673533</td>\n",
       "      <td>County Dublin Cycling</td>\n",
       "      <td>NaN</td>\n",
       "      <td>County Dublin</td>\n",
       "      <td>Europe/London</td>\n",
       "      <td>+01:00</td>\n",
       "      <td>00:17:45</td>\n",
       "      <td>00:17:45</td>\n",
       "      <td>00:13:11</td>\n",
       "      <td>Any Activity Type</td>\n",
       "      <td>Cycling</td>\n",
       "      <td>Uncategorized</td>\n",
       "      <td>fēnix 3 9.60.0.0</td>\n",
       "      <td>NaN</td>\n",
       "      <td>private</td>\n",
       "      <td>fit</td>\n",
       "      <td>4.08272</td>\n",
       "      <td>13.7952</td>\n",
       "      <td>13.8</td>\n",
       "      <td>18.581279</td>\n",
       "      <td>18.6</td>\n",
       "      <td>24.789601</td>\n",
       "      <td>24.8</td>\n",
       "      <td>35.0</td>\n",
       "      <td>1.0</td>\n",
       "      <td>-20.4</td>\n",
       "      <td>15.0</td>\n",
       "      <td>False</td>\n",
       "      <td>53.371222</td>\n",
       "      <td>-6.203950</td>\n",
       "      <td>53.385280</td>\n",
       "      <td>-6.254945</td>\n",
       "      <td>NaN</td>\n",
       "      <td>NaN</td>\n",
       "      <td>126.0</td>\n",
       "      <td>NaN</td>\n",
       "      <td>NaN</td>\n",
       "      <td>NaN</td>\n",
       "      <td>NaN</td>\n",
       "      <td>NaN</td>\n",
       "      <td>NaN</td>\n",
       "      <td>NaN</td>\n",
       "      <td>NaN</td>\n",
       "      <td>NaN</td>\n",
       "      <td>NaN</td>\n",
       "      <td>21.920664</td>\n",
       "      <td>20.0</td>\n",
       "      <td>25.0</td>\n",
       "    </tr>\n",
       "    <tr>\n",
       "      <th>2</th>\n",
       "      <td>2021-09-27T19:18:33+01:00</td>\n",
       "      <td>2021-09-27T20:00:53+01:00</td>\n",
       "      <td>7619673196</td>\n",
       "      <td>Strength</td>\n",
       "      <td>NaN</td>\n",
       "      <td>NaN</td>\n",
       "      <td>Europe/London</td>\n",
       "      <td>+01:00</td>\n",
       "      <td>00:42:20</td>\n",
       "      <td>00:42:20</td>\n",
       "      <td>NaN</td>\n",
       "      <td>Gym &amp; Fitness Equipment</td>\n",
       "      <td>Strength Training</td>\n",
       "      <td>Uncategorized</td>\n",
       "      <td>fēnix 3 9.60.0.0</td>\n",
       "      <td>NaN</td>\n",
       "      <td>private</td>\n",
       "      <td>fit</td>\n",
       "      <td>NaN</td>\n",
       "      <td>NaN</td>\n",
       "      <td>NaN</td>\n",
       "      <td>NaN</td>\n",
       "      <td>NaN</td>\n",
       "      <td>NaN</td>\n",
       "      <td>NaN</td>\n",
       "      <td>NaN</td>\n",
       "      <td>NaN</td>\n",
       "      <td>-15.4</td>\n",
       "      <td>-15.4</td>\n",
       "      <td>False</td>\n",
       "      <td>NaN</td>\n",
       "      <td>NaN</td>\n",
       "      <td>NaN</td>\n",
       "      <td>NaN</td>\n",
       "      <td>153.0</td>\n",
       "      <td>113.0</td>\n",
       "      <td>296.0</td>\n",
       "      <td>NaN</td>\n",
       "      <td>1.7</td>\n",
       "      <td>NaN</td>\n",
       "      <td>NaN</td>\n",
       "      <td>NaN</td>\n",
       "      <td>NaN</td>\n",
       "      <td>NaN</td>\n",
       "      <td>NaN</td>\n",
       "      <td>NaN</td>\n",
       "      <td>NaN</td>\n",
       "      <td>25.851181</td>\n",
       "      <td>25.0</td>\n",
       "      <td>27.0</td>\n",
       "    </tr>\n",
       "    <tr>\n",
       "      <th>3</th>\n",
       "      <td>2021-09-24T19:40:17+01:00</td>\n",
       "      <td>2021-09-24T20:10:40+01:00</td>\n",
       "      <td>7619672202</td>\n",
       "      <td>Strength</td>\n",
       "      <td>NaN</td>\n",
       "      <td>NaN</td>\n",
       "      <td>Europe/London</td>\n",
       "      <td>+01:00</td>\n",
       "      <td>00:30:23</td>\n",
       "      <td>00:30:23</td>\n",
       "      <td>NaN</td>\n",
       "      <td>Gym &amp; Fitness Equipment</td>\n",
       "      <td>Strength Training</td>\n",
       "      <td>Uncategorized</td>\n",
       "      <td>fēnix 3 9.60.0.0</td>\n",
       "      <td>NaN</td>\n",
       "      <td>private</td>\n",
       "      <td>fit</td>\n",
       "      <td>NaN</td>\n",
       "      <td>NaN</td>\n",
       "      <td>NaN</td>\n",
       "      <td>NaN</td>\n",
       "      <td>NaN</td>\n",
       "      <td>NaN</td>\n",
       "      <td>NaN</td>\n",
       "      <td>NaN</td>\n",
       "      <td>NaN</td>\n",
       "      <td>-28.6</td>\n",
       "      <td>-12.0</td>\n",
       "      <td>False</td>\n",
       "      <td>NaN</td>\n",
       "      <td>NaN</td>\n",
       "      <td>NaN</td>\n",
       "      <td>NaN</td>\n",
       "      <td>160.0</td>\n",
       "      <td>127.0</td>\n",
       "      <td>303.0</td>\n",
       "      <td>NaN</td>\n",
       "      <td>2.3</td>\n",
       "      <td>NaN</td>\n",
       "      <td>NaN</td>\n",
       "      <td>NaN</td>\n",
       "      <td>NaN</td>\n",
       "      <td>NaN</td>\n",
       "      <td>NaN</td>\n",
       "      <td>NaN</td>\n",
       "      <td>NaN</td>\n",
       "      <td>27.364783</td>\n",
       "      <td>27.0</td>\n",
       "      <td>28.0</td>\n",
       "    </tr>\n",
       "    <tr>\n",
       "      <th>4</th>\n",
       "      <td>2021-09-14T11:30:25+01:00</td>\n",
       "      <td>2021-09-14T11:44:44+01:00</td>\n",
       "      <td>7619671539</td>\n",
       "      <td>County Dublin Running</td>\n",
       "      <td>NaN</td>\n",
       "      <td>County Dublin</td>\n",
       "      <td>Europe/London</td>\n",
       "      <td>+01:00</td>\n",
       "      <td>00:13:26</td>\n",
       "      <td>00:14:19</td>\n",
       "      <td>00:13:25</td>\n",
       "      <td>Any Activity Type</td>\n",
       "      <td>Running</td>\n",
       "      <td>Uncategorized</td>\n",
       "      <td>fēnix 3 9.60.0.0</td>\n",
       "      <td>NaN</td>\n",
       "      <td>private</td>\n",
       "      <td>fit</td>\n",
       "      <td>2.46933</td>\n",
       "      <td>11.0340</td>\n",
       "      <td>05:26</td>\n",
       "      <td>11.048923</td>\n",
       "      <td>05:26</td>\n",
       "      <td>12.160800</td>\n",
       "      <td>04:56</td>\n",
       "      <td>1.0</td>\n",
       "      <td>1.0</td>\n",
       "      <td>-48.4</td>\n",
       "      <td>-46.2</td>\n",
       "      <td>False</td>\n",
       "      <td>53.363152</td>\n",
       "      <td>-6.185932</td>\n",
       "      <td>53.352374</td>\n",
       "      <td>-6.165147</td>\n",
       "      <td>NaN</td>\n",
       "      <td>NaN</td>\n",
       "      <td>220.0</td>\n",
       "      <td>NaN</td>\n",
       "      <td>NaN</td>\n",
       "      <td>NaN</td>\n",
       "      <td>157.72</td>\n",
       "      <td>162.0</td>\n",
       "      <td>116.63</td>\n",
       "      <td>2104.0</td>\n",
       "      <td>NaN</td>\n",
       "      <td>NaN</td>\n",
       "      <td>NaN</td>\n",
       "      <td>24.054796</td>\n",
       "      <td>23.0</td>\n",
       "      <td>25.0</td>\n",
       "    </tr>\n",
       "  </tbody>\n",
       "</table>\n",
       "</div>"
      ],
      "text/plain": [
       "                  Start Time                   End Time  Activity ID          Activity Name  Description  Location Name      Time Zone  Offset Duration (h:m:s) Elapsed Duration (h:m:s) Moving Duration (h:m:s)          Activity Parent      Activity Type     Event Type            Device  Gear  Privacy File Format  Distance (km)  Average Speed (km/h) Average Speed (km/h or min/km)  Average Moving Speed (km/h) Average Moving Speed (km/h or min/km)  Max. Speed (km/h) Max. Speed (km/h or min/km)  Elevation Gain (m)  Elevation Loss (m)  Elevation Min. (m)  Elevation Max. (m)  Elevation Corrected  Begin Latitude (°DD)  Begin Longitude (°DD)  End Latitude (°DD)  End Longitude (°DD)  Max. Heart Rate (bpm)  Average Heart Rate (bpm)  Calories  VO2max  Aerobic Training Effect  Anaerobic Training Effect  Avg. Run Cadence  Max. Run Cadence  Stride Length   Steps  Avg. Cadence (rpm)  Max. Cadence (rpm)  Strokes  Avg. Temp (°C)  Min. Temp (°C)  Max. Temp (°C)\n",
       "0  2021-10-07T19:31:04+01:00  2021-10-07T19:56:05+01:00   7619674395  County Dublin Running          NaN  County Dublin  Europe/London  +01:00         00:25:01                 00:25:01                00:20:37        Any Activity Type            Running  Uncategorized  fēnix 3 9.60.0.0   NaN  private         fit        3.99340                9.5760                          06:16                    11.623109                                 05:10          26.974800                       02:13                33.0                37.0               -28.2               -13.4                False             53.369176              -6.185563           53.363610            -6.184597                  181.0                     163.0     374.0    49.0                      3.6                        NaN            122.98             211.0         130.04  2902.0                 NaN                 NaN      NaN       23.683376            22.0            28.0\n",
       "1  2021-10-06T13:45:30+01:00  2021-10-06T14:03:15+01:00   7619673533  County Dublin Cycling          NaN  County Dublin  Europe/London  +01:00         00:17:45                 00:17:45                00:13:11        Any Activity Type            Cycling  Uncategorized  fēnix 3 9.60.0.0   NaN  private         fit        4.08272               13.7952                           13.8                    18.581279                                  18.6          24.789601                        24.8                35.0                 1.0               -20.4                15.0                False             53.371222              -6.203950           53.385280            -6.254945                    NaN                       NaN     126.0     NaN                      NaN                        NaN               NaN               NaN            NaN     NaN                 NaN                 NaN      NaN       21.920664            20.0            25.0\n",
       "2  2021-09-27T19:18:33+01:00  2021-09-27T20:00:53+01:00   7619673196               Strength          NaN            NaN  Europe/London  +01:00         00:42:20                 00:42:20                     NaN  Gym & Fitness Equipment  Strength Training  Uncategorized  fēnix 3 9.60.0.0   NaN  private         fit            NaN                   NaN                            NaN                          NaN                                   NaN                NaN                         NaN                 NaN                 NaN               -15.4               -15.4                False                   NaN                    NaN                 NaN                  NaN                  153.0                     113.0     296.0     NaN                      1.7                        NaN               NaN               NaN            NaN     NaN                 NaN                 NaN      NaN       25.851181            25.0            27.0\n",
       "3  2021-09-24T19:40:17+01:00  2021-09-24T20:10:40+01:00   7619672202               Strength          NaN            NaN  Europe/London  +01:00         00:30:23                 00:30:23                     NaN  Gym & Fitness Equipment  Strength Training  Uncategorized  fēnix 3 9.60.0.0   NaN  private         fit            NaN                   NaN                            NaN                          NaN                                   NaN                NaN                         NaN                 NaN                 NaN               -28.6               -12.0                False                   NaN                    NaN                 NaN                  NaN                  160.0                     127.0     303.0     NaN                      2.3                        NaN               NaN               NaN            NaN     NaN                 NaN                 NaN      NaN       27.364783            27.0            28.0\n",
       "4  2021-09-14T11:30:25+01:00  2021-09-14T11:44:44+01:00   7619671539  County Dublin Running          NaN  County Dublin  Europe/London  +01:00         00:13:26                 00:14:19                00:13:25        Any Activity Type            Running  Uncategorized  fēnix 3 9.60.0.0   NaN  private         fit        2.46933               11.0340                          05:26                    11.048923                                 05:26          12.160800                       04:56                 1.0                 1.0               -48.4               -46.2                False             53.363152              -6.185932           53.352374            -6.165147                    NaN                       NaN     220.0     NaN                      NaN                        NaN            157.72             162.0         116.63  2104.0                 NaN                 NaN      NaN       24.054796            23.0            25.0"
      ]
     },
     "execution_count": 4,
     "metadata": {},
     "output_type": "execute_result"
    }
   ],
   "source": [
    "#look at the data in each column\n",
    "df_activities.head(5)"
   ]
  },
  {
   "cell_type": "code",
   "execution_count": 5,
   "id": "e0ccdfdf",
   "metadata": {},
   "outputs": [
    {
     "data": {
      "text/plain": [
       "(1247, 50)"
      ]
     },
     "execution_count": 5,
     "metadata": {},
     "output_type": "execute_result"
    }
   ],
   "source": [
    "#get the numbers of rows and columns \n",
    "df_activities.shape"
   ]
  },
  {
   "cell_type": "code",
   "execution_count": 6,
   "id": "07070d92",
   "metadata": {},
   "outputs": [
    {
     "data": {
      "text/plain": [
       "Index(['Start Time', 'End Time', 'Activity ID', 'Activity Name', 'Description', 'Location Name', 'Time Zone', 'Offset', 'Duration (h:m:s)', 'Elapsed Duration (h:m:s)', 'Moving Duration (h:m:s)', 'Activity Parent', 'Activity Type', 'Event Type', 'Device', 'Gear', 'Privacy', 'File Format', 'Distance (km)', 'Average Speed (km/h)', 'Average Speed (km/h or min/km)', 'Average Moving Speed (km/h)', 'Average Moving Speed (km/h or min/km)', 'Max. Speed (km/h)', 'Max. Speed (km/h or min/km)', 'Elevation Gain (m)', 'Elevation Loss (m)', 'Elevation Min. (m)', 'Elevation Max. (m)', 'Elevation Corrected', 'Begin Latitude (°DD)', 'Begin Longitude (°DD)', 'End Latitude (°DD)', 'End Longitude (°DD)', 'Max. Heart Rate (bpm)', 'Average Heart Rate (bpm)', 'Calories', 'VO2max', 'Aerobic Training Effect', 'Anaerobic Training Effect', 'Avg. Run Cadence', 'Max. Run Cadence', 'Stride Length', 'Steps', 'Avg. Cadence (rpm)', 'Max. Cadence (rpm)', 'Strokes', 'Avg. Temp (°C)', 'Min. Temp (°C)', 'Max. Temp (°C)'], dtype='object')"
      ]
     },
     "execution_count": 6,
     "metadata": {},
     "output_type": "execute_result"
    }
   ],
   "source": [
    "#list of column names \n",
    "df_activities.columns"
   ]
  },
  {
   "cell_type": "code",
   "execution_count": 7,
   "id": "1c4dfcb2",
   "metadata": {},
   "outputs": [
    {
     "name": "stdout",
     "output_type": "stream",
     "text": [
      "Strength                                270\n",
      "Indoor Cycling                          207\n",
      "County Cavan Strength                   196\n",
      "County Cavan Running                    100\n",
      "County Dublin Running                    88\n",
      "Cavan Strength                           74\n",
      "Cavan Running                            54\n",
      "Cardio                                   39\n",
      "Treadmill Running                        32\n",
      "Cavan Strength Training                  25\n",
      "County Cavan Cycling                     20\n",
      "Kells Running                            13\n",
      "County Dublin Cycling                    11\n",
      "Kells Strength                           11\n",
      "Strength Training                        11\n",
      "County Longford Running                   9\n",
      "Indoor Rowing                             7\n",
      "Running                                   7\n",
      "Lap Swimming                              7\n",
      "Dublin 9 Running                          5\n",
      "County Kerry Running                      5\n",
      "County Cavan - Strength                   3\n",
      "County Dublin Walking                     3\n",
      "Yonkers Running                           3\n",
      "Football, competitive - MyFitnessPal      3\n",
      "Cavan Indoor Cycling                      2\n",
      "Walking                                   2\n",
      "County Cavan Walking                      2\n",
      "County Cavan Indoor Cycling               2\n",
      "Kells Cycling                             2\n",
      "Cavan Cycling                             2\n",
      "Dublin 9 Strength                         2\n",
      "County Kerry Cycling                      2\n",
      "Cycling                                   2\n",
      "Kells Trail Running                       2\n",
      "Yonkers Walking                           2\n",
      "County Louth Row                          2\n",
      "County Longford Trail Running             1\n",
      "Kells Strength Training                   1\n",
      "County Kerry Strength                     1\n",
      "County Kerry Trail Running                1\n",
      "Longford Running                          1\n",
      "County Dublin Strength                    1\n",
      "Dublin 15 Strength                        1\n",
      "Cavan Rowing                              1\n",
      "Dublin 11 Running                         1\n",
      "County Cavan Hiking                       1\n",
      "Clifden Running                           1\n",
      "County Wicklow Cycling                    1\n",
      "County Offaly Running                     1\n",
      "County Kerry Hiking                       1\n",
      "County Dublin - 10 - 150s x 75s           1\n",
      "County Dublin - WK1 A 500s                1\n",
      "County Cavan Trail Running                1\n",
      "Yonkers Strength Training                 1\n",
      "County Cavan - WK1 A 500s - 100s          1\n",
      "Dubrovnik Strength                        1\n",
      "Name: Activity Name, dtype: int64\n"
     ]
    }
   ],
   "source": [
    "act_names = df_activities['Activity Name'].value_counts(sort=True)\n",
    "print(act_names)"
   ]
  },
  {
   "cell_type": "code",
   "execution_count": 8,
   "id": "75d984e1",
   "metadata": {},
   "outputs": [
    {
     "name": "stdout",
     "output_type": "stream",
     "text": [
      "County Cavan       326\n",
      "County Dublin      105\n",
      "Cavan               97\n",
      "Kells               17\n",
      "County Longford     10\n",
      "County Kerry        10\n",
      "Dublin 9             5\n",
      "County Louth         2\n",
      "Longford             1\n",
      "County Wicklow       1\n",
      "County Offaly        1\n",
      "Dubrovnik            1\n",
      "Name: Location Name, dtype: int64\n"
     ]
    }
   ],
   "source": [
    "Loctaion_counts = df_activities['Location Name'].value_counts(sort=True)\n",
    "print(Loctaion_counts)"
   ]
  },
  {
   "cell_type": "code",
   "execution_count": 9,
   "id": "d86ce8bb",
   "metadata": {},
   "outputs": [
    {
     "name": "stdout",
     "output_type": "stream",
     "text": [
      "Strength Training    598\n",
      "Running              291\n",
      "Indoor Cycling       211\n",
      "Cycling               40\n",
      "Cardio                39\n",
      "Treadmill Running     32\n",
      "Walking                9\n",
      "Indoor Rowing          7\n",
      "Pool Swimming          7\n",
      "Trail Running          5\n",
      "Rowing                 3\n",
      "Other                  3\n",
      "Hiking                 2\n",
      "Name: Activity Type, dtype: int64\n"
     ]
    }
   ],
   "source": [
    "Act_type_counts = df_activities['Activity Type'].value_counts(sort=True)\n",
    "print(Act_type_counts)"
   ]
  },
  {
   "cell_type": "code",
   "execution_count": 13,
   "id": "6b67a357",
   "metadata": {},
   "outputs": [
    {
     "data": {
      "text/html": [
       "<div>\n",
       "<style scoped>\n",
       "    .dataframe tbody tr th:only-of-type {\n",
       "        vertical-align: middle;\n",
       "    }\n",
       "\n",
       "    .dataframe tbody tr th {\n",
       "        vertical-align: top;\n",
       "    }\n",
       "\n",
       "    .dataframe thead th {\n",
       "        text-align: right;\n",
       "    }\n",
       "</style>\n",
       "<table border=\"1\" class=\"dataframe\">\n",
       "  <thead>\n",
       "    <tr style=\"text-align: right;\">\n",
       "      <th></th>\n",
       "      <th>Start Time</th>\n",
       "      <th>End Time</th>\n",
       "      <th>Activity ID</th>\n",
       "      <th>Activity Name</th>\n",
       "      <th>Description</th>\n",
       "      <th>Location Name</th>\n",
       "      <th>Time Zone</th>\n",
       "      <th>Offset</th>\n",
       "      <th>Duration (h:m:s)</th>\n",
       "      <th>Elapsed Duration (h:m:s)</th>\n",
       "      <th>Moving Duration (h:m:s)</th>\n",
       "      <th>Activity Parent</th>\n",
       "      <th>Activity Type</th>\n",
       "      <th>Event Type</th>\n",
       "      <th>Device</th>\n",
       "      <th>Gear</th>\n",
       "      <th>Privacy</th>\n",
       "      <th>File Format</th>\n",
       "      <th>Distance (km)</th>\n",
       "      <th>Average Speed (km/h)</th>\n",
       "      <th>Average Speed (km/h or min/km)</th>\n",
       "      <th>Average Moving Speed (km/h)</th>\n",
       "      <th>Average Moving Speed (km/h or min/km)</th>\n",
       "      <th>Max. Speed (km/h)</th>\n",
       "      <th>Max. Speed (km/h or min/km)</th>\n",
       "      <th>Elevation Gain (m)</th>\n",
       "      <th>Elevation Loss (m)</th>\n",
       "      <th>Elevation Min. (m)</th>\n",
       "      <th>Elevation Max. (m)</th>\n",
       "      <th>Elevation Corrected</th>\n",
       "      <th>Begin Latitude (°DD)</th>\n",
       "      <th>Begin Longitude (°DD)</th>\n",
       "      <th>End Latitude (°DD)</th>\n",
       "      <th>End Longitude (°DD)</th>\n",
       "      <th>Max. Heart Rate (bpm)</th>\n",
       "      <th>Average Heart Rate (bpm)</th>\n",
       "      <th>Calories</th>\n",
       "      <th>VO2max</th>\n",
       "      <th>Aerobic Training Effect</th>\n",
       "      <th>Anaerobic Training Effect</th>\n",
       "      <th>Avg. Run Cadence</th>\n",
       "      <th>Max. Run Cadence</th>\n",
       "      <th>Stride Length</th>\n",
       "      <th>Steps</th>\n",
       "      <th>Avg. Cadence (rpm)</th>\n",
       "      <th>Max. Cadence (rpm)</th>\n",
       "      <th>Strokes</th>\n",
       "      <th>Avg. Temp (°C)</th>\n",
       "      <th>Min. Temp (°C)</th>\n",
       "      <th>Max. Temp (°C)</th>\n",
       "    </tr>\n",
       "  </thead>\n",
       "  <tbody>\n",
       "    <tr>\n",
       "      <th>2</th>\n",
       "      <td>2021-09-27T19:18:33+01:00</td>\n",
       "      <td>2021-09-27T20:00:53+01:00</td>\n",
       "      <td>7619673196</td>\n",
       "      <td>Strength</td>\n",
       "      <td>NaN</td>\n",
       "      <td>NaN</td>\n",
       "      <td>Europe/London</td>\n",
       "      <td>+01:00</td>\n",
       "      <td>00:42:20</td>\n",
       "      <td>00:42:20</td>\n",
       "      <td>NaN</td>\n",
       "      <td>Gym &amp; Fitness Equipment</td>\n",
       "      <td>Strength Training</td>\n",
       "      <td>Uncategorized</td>\n",
       "      <td>fēnix 3 9.60.0.0</td>\n",
       "      <td>NaN</td>\n",
       "      <td>private</td>\n",
       "      <td>fit</td>\n",
       "      <td>NaN</td>\n",
       "      <td>NaN</td>\n",
       "      <td>NaN</td>\n",
       "      <td>NaN</td>\n",
       "      <td>NaN</td>\n",
       "      <td>NaN</td>\n",
       "      <td>NaN</td>\n",
       "      <td>NaN</td>\n",
       "      <td>NaN</td>\n",
       "      <td>-15.4</td>\n",
       "      <td>-15.4</td>\n",
       "      <td>False</td>\n",
       "      <td>NaN</td>\n",
       "      <td>NaN</td>\n",
       "      <td>NaN</td>\n",
       "      <td>NaN</td>\n",
       "      <td>153.0</td>\n",
       "      <td>113.0</td>\n",
       "      <td>296.0</td>\n",
       "      <td>NaN</td>\n",
       "      <td>1.7</td>\n",
       "      <td>NaN</td>\n",
       "      <td>NaN</td>\n",
       "      <td>NaN</td>\n",
       "      <td>NaN</td>\n",
       "      <td>NaN</td>\n",
       "      <td>NaN</td>\n",
       "      <td>NaN</td>\n",
       "      <td>NaN</td>\n",
       "      <td>25.851181</td>\n",
       "      <td>25.0</td>\n",
       "      <td>27.0</td>\n",
       "    </tr>\n",
       "    <tr>\n",
       "      <th>3</th>\n",
       "      <td>2021-09-24T19:40:17+01:00</td>\n",
       "      <td>2021-09-24T20:10:40+01:00</td>\n",
       "      <td>7619672202</td>\n",
       "      <td>Strength</td>\n",
       "      <td>NaN</td>\n",
       "      <td>NaN</td>\n",
       "      <td>Europe/London</td>\n",
       "      <td>+01:00</td>\n",
       "      <td>00:30:23</td>\n",
       "      <td>00:30:23</td>\n",
       "      <td>NaN</td>\n",
       "      <td>Gym &amp; Fitness Equipment</td>\n",
       "      <td>Strength Training</td>\n",
       "      <td>Uncategorized</td>\n",
       "      <td>fēnix 3 9.60.0.0</td>\n",
       "      <td>NaN</td>\n",
       "      <td>private</td>\n",
       "      <td>fit</td>\n",
       "      <td>NaN</td>\n",
       "      <td>NaN</td>\n",
       "      <td>NaN</td>\n",
       "      <td>NaN</td>\n",
       "      <td>NaN</td>\n",
       "      <td>NaN</td>\n",
       "      <td>NaN</td>\n",
       "      <td>NaN</td>\n",
       "      <td>NaN</td>\n",
       "      <td>-28.6</td>\n",
       "      <td>-12.0</td>\n",
       "      <td>False</td>\n",
       "      <td>NaN</td>\n",
       "      <td>NaN</td>\n",
       "      <td>NaN</td>\n",
       "      <td>NaN</td>\n",
       "      <td>160.0</td>\n",
       "      <td>127.0</td>\n",
       "      <td>303.0</td>\n",
       "      <td>NaN</td>\n",
       "      <td>2.3</td>\n",
       "      <td>NaN</td>\n",
       "      <td>NaN</td>\n",
       "      <td>NaN</td>\n",
       "      <td>NaN</td>\n",
       "      <td>NaN</td>\n",
       "      <td>NaN</td>\n",
       "      <td>NaN</td>\n",
       "      <td>NaN</td>\n",
       "      <td>27.364783</td>\n",
       "      <td>27.0</td>\n",
       "      <td>28.0</td>\n",
       "    </tr>\n",
       "    <tr>\n",
       "      <th>11</th>\n",
       "      <td>2021-07-14T09:01:01+01:00</td>\n",
       "      <td>2021-07-14T09:39:18+01:00</td>\n",
       "      <td>7122864676</td>\n",
       "      <td>Strength</td>\n",
       "      <td>NaN</td>\n",
       "      <td>NaN</td>\n",
       "      <td>Europe/London</td>\n",
       "      <td>+01:00</td>\n",
       "      <td>00:38:17</td>\n",
       "      <td>00:38:17</td>\n",
       "      <td>NaN</td>\n",
       "      <td>Gym &amp; Fitness Equipment</td>\n",
       "      <td>Strength Training</td>\n",
       "      <td>Uncategorized</td>\n",
       "      <td>fēnix 3 9.60.0.0</td>\n",
       "      <td>NaN</td>\n",
       "      <td>private</td>\n",
       "      <td>fit</td>\n",
       "      <td>NaN</td>\n",
       "      <td>NaN</td>\n",
       "      <td>NaN</td>\n",
       "      <td>NaN</td>\n",
       "      <td>NaN</td>\n",
       "      <td>NaN</td>\n",
       "      <td>NaN</td>\n",
       "      <td>NaN</td>\n",
       "      <td>NaN</td>\n",
       "      <td>108.8</td>\n",
       "      <td>109.8</td>\n",
       "      <td>False</td>\n",
       "      <td>NaN</td>\n",
       "      <td>NaN</td>\n",
       "      <td>NaN</td>\n",
       "      <td>NaN</td>\n",
       "      <td>NaN</td>\n",
       "      <td>NaN</td>\n",
       "      <td>NaN</td>\n",
       "      <td>NaN</td>\n",
       "      <td>NaN</td>\n",
       "      <td>NaN</td>\n",
       "      <td>NaN</td>\n",
       "      <td>NaN</td>\n",
       "      <td>NaN</td>\n",
       "      <td>NaN</td>\n",
       "      <td>NaN</td>\n",
       "      <td>NaN</td>\n",
       "      <td>NaN</td>\n",
       "      <td>24.827601</td>\n",
       "      <td>23.0</td>\n",
       "      <td>26.0</td>\n",
       "    </tr>\n",
       "    <tr>\n",
       "      <th>13</th>\n",
       "      <td>2021-07-10T19:28:10+01:00</td>\n",
       "      <td>2021-07-10T19:59:21+01:00</td>\n",
       "      <td>7103330134</td>\n",
       "      <td>Strength</td>\n",
       "      <td>NaN</td>\n",
       "      <td>NaN</td>\n",
       "      <td>Europe/London</td>\n",
       "      <td>+01:00</td>\n",
       "      <td>00:31:11</td>\n",
       "      <td>00:31:11</td>\n",
       "      <td>NaN</td>\n",
       "      <td>Gym &amp; Fitness Equipment</td>\n",
       "      <td>Strength Training</td>\n",
       "      <td>Uncategorized</td>\n",
       "      <td>fēnix 3 9.60.0.0</td>\n",
       "      <td>NaN</td>\n",
       "      <td>private</td>\n",
       "      <td>fit</td>\n",
       "      <td>NaN</td>\n",
       "      <td>NaN</td>\n",
       "      <td>NaN</td>\n",
       "      <td>NaN</td>\n",
       "      <td>NaN</td>\n",
       "      <td>NaN</td>\n",
       "      <td>NaN</td>\n",
       "      <td>NaN</td>\n",
       "      <td>NaN</td>\n",
       "      <td>7.2</td>\n",
       "      <td>76.2</td>\n",
       "      <td>False</td>\n",
       "      <td>NaN</td>\n",
       "      <td>NaN</td>\n",
       "      <td>NaN</td>\n",
       "      <td>NaN</td>\n",
       "      <td>155.0</td>\n",
       "      <td>109.0</td>\n",
       "      <td>197.0</td>\n",
       "      <td>NaN</td>\n",
       "      <td>1.7</td>\n",
       "      <td>NaN</td>\n",
       "      <td>NaN</td>\n",
       "      <td>NaN</td>\n",
       "      <td>NaN</td>\n",
       "      <td>NaN</td>\n",
       "      <td>NaN</td>\n",
       "      <td>NaN</td>\n",
       "      <td>NaN</td>\n",
       "      <td>25.390700</td>\n",
       "      <td>25.0</td>\n",
       "      <td>26.0</td>\n",
       "    </tr>\n",
       "    <tr>\n",
       "      <th>18</th>\n",
       "      <td>2021-07-05T10:05:19+01:00</td>\n",
       "      <td>2021-07-05T10:16:31+01:00</td>\n",
       "      <td>7074005170</td>\n",
       "      <td>Strength</td>\n",
       "      <td>NaN</td>\n",
       "      <td>NaN</td>\n",
       "      <td>Europe/London</td>\n",
       "      <td>+01:00</td>\n",
       "      <td>00:11:12</td>\n",
       "      <td>00:11:12</td>\n",
       "      <td>NaN</td>\n",
       "      <td>Gym &amp; Fitness Equipment</td>\n",
       "      <td>Strength Training</td>\n",
       "      <td>Uncategorized</td>\n",
       "      <td>fēnix 3 9.60.0.0</td>\n",
       "      <td>NaN</td>\n",
       "      <td>private</td>\n",
       "      <td>fit</td>\n",
       "      <td>NaN</td>\n",
       "      <td>NaN</td>\n",
       "      <td>NaN</td>\n",
       "      <td>NaN</td>\n",
       "      <td>NaN</td>\n",
       "      <td>NaN</td>\n",
       "      <td>NaN</td>\n",
       "      <td>NaN</td>\n",
       "      <td>NaN</td>\n",
       "      <td>113.0</td>\n",
       "      <td>113.0</td>\n",
       "      <td>False</td>\n",
       "      <td>NaN</td>\n",
       "      <td>NaN</td>\n",
       "      <td>NaN</td>\n",
       "      <td>NaN</td>\n",
       "      <td>114.0</td>\n",
       "      <td>87.0</td>\n",
       "      <td>41.0</td>\n",
       "      <td>NaN</td>\n",
       "      <td>1.0</td>\n",
       "      <td>NaN</td>\n",
       "      <td>NaN</td>\n",
       "      <td>NaN</td>\n",
       "      <td>NaN</td>\n",
       "      <td>NaN</td>\n",
       "      <td>NaN</td>\n",
       "      <td>NaN</td>\n",
       "      <td>NaN</td>\n",
       "      <td>24.209821</td>\n",
       "      <td>24.0</td>\n",
       "      <td>25.0</td>\n",
       "    </tr>\n",
       "  </tbody>\n",
       "</table>\n",
       "</div>"
      ],
      "text/plain": [
       "                   Start Time                   End Time  Activity ID Activity Name  Description Location Name      Time Zone  Offset Duration (h:m:s) Elapsed Duration (h:m:s) Moving Duration (h:m:s)          Activity Parent      Activity Type     Event Type            Device  Gear  Privacy File Format  Distance (km)  Average Speed (km/h) Average Speed (km/h or min/km)  Average Moving Speed (km/h) Average Moving Speed (km/h or min/km)  Max. Speed (km/h) Max. Speed (km/h or min/km)  Elevation Gain (m)  Elevation Loss (m)  Elevation Min. (m)  Elevation Max. (m)  Elevation Corrected  Begin Latitude (°DD)  Begin Longitude (°DD)  End Latitude (°DD)  End Longitude (°DD)  Max. Heart Rate (bpm)  Average Heart Rate (bpm)  Calories  VO2max  Aerobic Training Effect  Anaerobic Training Effect  Avg. Run Cadence  Max. Run Cadence  Stride Length  Steps  Avg. Cadence (rpm)  Max. Cadence (rpm)  Strokes  Avg. Temp (°C)  Min. Temp (°C)  Max. Temp (°C)\n",
       "2   2021-09-27T19:18:33+01:00  2021-09-27T20:00:53+01:00   7619673196      Strength          NaN           NaN  Europe/London  +01:00         00:42:20                 00:42:20                     NaN  Gym & Fitness Equipment  Strength Training  Uncategorized  fēnix 3 9.60.0.0   NaN  private         fit            NaN                   NaN                            NaN                          NaN                                   NaN                NaN                         NaN                 NaN                 NaN               -15.4               -15.4                False                   NaN                    NaN                 NaN                  NaN                  153.0                     113.0     296.0     NaN                      1.7                        NaN               NaN               NaN            NaN    NaN                 NaN                 NaN      NaN       25.851181            25.0            27.0\n",
       "3   2021-09-24T19:40:17+01:00  2021-09-24T20:10:40+01:00   7619672202      Strength          NaN           NaN  Europe/London  +01:00         00:30:23                 00:30:23                     NaN  Gym & Fitness Equipment  Strength Training  Uncategorized  fēnix 3 9.60.0.0   NaN  private         fit            NaN                   NaN                            NaN                          NaN                                   NaN                NaN                         NaN                 NaN                 NaN               -28.6               -12.0                False                   NaN                    NaN                 NaN                  NaN                  160.0                     127.0     303.0     NaN                      2.3                        NaN               NaN               NaN            NaN    NaN                 NaN                 NaN      NaN       27.364783            27.0            28.0\n",
       "11  2021-07-14T09:01:01+01:00  2021-07-14T09:39:18+01:00   7122864676      Strength          NaN           NaN  Europe/London  +01:00         00:38:17                 00:38:17                     NaN  Gym & Fitness Equipment  Strength Training  Uncategorized  fēnix 3 9.60.0.0   NaN  private         fit            NaN                   NaN                            NaN                          NaN                                   NaN                NaN                         NaN                 NaN                 NaN               108.8               109.8                False                   NaN                    NaN                 NaN                  NaN                    NaN                       NaN       NaN     NaN                      NaN                        NaN               NaN               NaN            NaN    NaN                 NaN                 NaN      NaN       24.827601            23.0            26.0\n",
       "13  2021-07-10T19:28:10+01:00  2021-07-10T19:59:21+01:00   7103330134      Strength          NaN           NaN  Europe/London  +01:00         00:31:11                 00:31:11                     NaN  Gym & Fitness Equipment  Strength Training  Uncategorized  fēnix 3 9.60.0.0   NaN  private         fit            NaN                   NaN                            NaN                          NaN                                   NaN                NaN                         NaN                 NaN                 NaN                 7.2                76.2                False                   NaN                    NaN                 NaN                  NaN                  155.0                     109.0     197.0     NaN                      1.7                        NaN               NaN               NaN            NaN    NaN                 NaN                 NaN      NaN       25.390700            25.0            26.0\n",
       "18  2021-07-05T10:05:19+01:00  2021-07-05T10:16:31+01:00   7074005170      Strength          NaN           NaN  Europe/London  +01:00         00:11:12                 00:11:12                     NaN  Gym & Fitness Equipment  Strength Training  Uncategorized  fēnix 3 9.60.0.0   NaN  private         fit            NaN                   NaN                            NaN                          NaN                                   NaN                NaN                         NaN                 NaN                 NaN               113.0               113.0                False                   NaN                    NaN                 NaN                  NaN                  114.0                      87.0      41.0     NaN                      1.0                        NaN               NaN               NaN            NaN    NaN                 NaN                 NaN      NaN       24.209821            24.0            25.0"
      ]
     },
     "execution_count": 13,
     "metadata": {},
     "output_type": "execute_result"
    }
   ],
   "source": [
    "# Filter activities where activity type is 'Strangth training'\n",
    "st = df_activities[df_activities['Activity Type'] == 'Strength Training']\n",
    "st.head()\n"
   ]
  },
  {
   "cell_type": "code",
   "execution_count": 12,
   "id": "b45705e1",
   "metadata": {},
   "outputs": [
    {
     "data": {
      "text/plain": [
       "598"
      ]
     },
     "execution_count": 12,
     "metadata": {},
     "output_type": "execute_result"
    }
   ],
   "source": [
    "len(st)"
   ]
  },
  {
   "cell_type": "code",
   "execution_count": 14,
   "id": "e3f21bfb",
   "metadata": {},
   "outputs": [
    {
     "data": {
      "text/plain": [
       "Start Time                                object\n",
       "End Time                                  object\n",
       "Activity ID                                int64\n",
       "Activity Name                             object\n",
       "Description                              float64\n",
       "Location Name                             object\n",
       "Time Zone                                 object\n",
       "Offset                                    object\n",
       "Duration (h:m:s)                          object\n",
       "Elapsed Duration (h:m:s)                  object\n",
       "Moving Duration (h:m:s)                   object\n",
       "Activity Parent                           object\n",
       "Activity Type                             object\n",
       "Event Type                                object\n",
       "Device                                    object\n",
       "Gear                                     float64\n",
       "Privacy                                   object\n",
       "File Format                               object\n",
       "Distance (km)                            float64\n",
       "Average Speed (km/h)                     float64\n",
       "Average Speed (km/h or min/km)            object\n",
       "Average Moving Speed (km/h)              float64\n",
       "Average Moving Speed (km/h or min/km)     object\n",
       "Max. Speed (km/h)                        float64\n",
       "Max. Speed (km/h or min/km)               object\n",
       "Elevation Gain (m)                       float64\n",
       "Elevation Loss (m)                       float64\n",
       "Elevation Min. (m)                       float64\n",
       "Elevation Max. (m)                       float64\n",
       "Elevation Corrected                         bool\n",
       "Begin Latitude (°DD)                     float64\n",
       "Begin Longitude (°DD)                    float64\n",
       "End Latitude (°DD)                       float64\n",
       "End Longitude (°DD)                      float64\n",
       "Max. Heart Rate (bpm)                    float64\n",
       "Average Heart Rate (bpm)                 float64\n",
       "Calories                                 float64\n",
       "VO2max                                   float64\n",
       "Aerobic Training Effect                  float64\n",
       "Anaerobic Training Effect                float64\n",
       "Avg. Run Cadence                         float64\n",
       "Max. Run Cadence                         float64\n",
       "Stride Length                            float64\n",
       "Steps                                    float64\n",
       "Avg. Cadence (rpm)                       float64\n",
       "Max. Cadence (rpm)                       float64\n",
       "Strokes                                  float64\n",
       "Avg. Temp (°C)                           float64\n",
       "Min. Temp (°C)                           float64\n",
       "Max. Temp (°C)                           float64\n",
       "dtype: object"
      ]
     },
     "execution_count": 14,
     "metadata": {},
     "output_type": "execute_result"
    }
   ],
   "source": [
    "#examine the data types in each column\n",
    "df_activities.dtypes"
   ]
  },
  {
   "cell_type": "code",
   "execution_count": 17,
   "id": "f4624a66",
   "metadata": {},
   "outputs": [],
   "source": [
    "dt_lst = ['Start Time', 'End Time']\n",
    "#convert colums to date time \n",
    "for col in dt_lst:\n",
    "    df_activities[col]= pd.to_datetime(df_activities[col], utc= True)\n",
    "\n",
    "# Write an assert statement making sure of conversion\n",
    "assert df_activities[col].dtype == 'datetime64[ns, UTC]'"
   ]
  },
  {
   "cell_type": "code",
   "execution_count": 18,
   "id": "eec726a0",
   "metadata": {},
   "outputs": [],
   "source": [
    "hms_lst = ['Duration (h:m:s)','Elapsed Duration (h:m:s)','Moving Duration (h:m:s)']\n",
    "for col in hms_lst:\n",
    "    df_activities[col] = pd.to_timedelta(df_activities[col])\n",
    "    \n",
    "# Write an assert statement making sure of conversion\n",
    "assert df_activities[col].dtype == 'timedelta64[ns]'"
   ]
  },
  {
   "cell_type": "code",
   "execution_count": 19,
   "id": "aaa27ba2",
   "metadata": {},
   "outputs": [
    {
     "data": {
      "text/plain": [
       "Start Time                                  0\n",
       "End Time                                    0\n",
       "Activity ID                                 0\n",
       "Activity Name                               0\n",
       "Description                              1247\n",
       "Location Name                             671\n",
       "Time Zone                                   0\n",
       "Offset                                      0\n",
       "Duration (h:m:s)                            0\n",
       "Elapsed Duration (h:m:s)                    0\n",
       "Moving Duration (h:m:s)                   544\n",
       "Activity Parent                             0\n",
       "Activity Type                               0\n",
       "Event Type                                  0\n",
       "Device                                      3\n",
       "Gear                                     1247\n",
       "Privacy                                     0\n",
       "File Format                                 0\n",
       "Distance (km)                             541\n",
       "Average Speed (km/h)                      543\n",
       "Average Speed (km/h or min/km)            543\n",
       "Average Moving Speed (km/h)               550\n",
       "Average Moving Speed (km/h or min/km)     550\n",
       "Max. Speed (km/h)                         542\n",
       "Max. Speed (km/h or min/km)               542\n",
       "Elevation Gain (m)                        619\n",
       "Elevation Loss (m)                        592\n",
       "Elevation Min. (m)                         20\n",
       "Elevation Max. (m)                         22\n",
       "Elevation Corrected                         0\n",
       "Begin Latitude (°DD)                      585\n",
       "Begin Longitude (°DD)                     585\n",
       "End Latitude (°DD)                        672\n",
       "End Longitude (°DD)                       672\n",
       "Max. Heart Rate (bpm)                     155\n",
       "Average Heart Rate (bpm)                  155\n",
       "Calories                                  386\n",
       "VO2max                                   1100\n",
       "Aerobic Training Effect                   155\n",
       "Anaerobic Training Effect                1247\n",
       "Avg. Run Cadence                          909\n",
       "Max. Run Cadence                          909\n",
       "Stride Length                             920\n",
       "Steps                                     870\n",
       "Avg. Cadence (rpm)                       1246\n",
       "Max. Cadence (rpm)                       1247\n",
       "Strokes                                  1232\n",
       "Avg. Temp (°C)                             10\n",
       "Min. Temp (°C)                             10\n",
       "Max. Temp (°C)                             10\n",
       "dtype: int64"
      ]
     },
     "execution_count": 19,
     "metadata": {},
     "output_type": "execute_result"
    }
   ],
   "source": [
    "# sum the nulls \n",
    "df_activities.isnull().sum()"
   ]
  },
  {
   "cell_type": "code",
   "execution_count": 20,
   "id": "4190b958",
   "metadata": {},
   "outputs": [
    {
     "name": "stdout",
     "output_type": "stream",
     "text": [
      "My first session date: 05/29/2016\n",
      "My last session date: 10/07/2021\n"
     ]
    }
   ],
   "source": [
    "#The date of my first and last session \n",
    "\n",
    "first_session = min(df_activities['Start Time'])\n",
    "last_session = max(df_activities['Start Time'])\n",
    "\n",
    "first_session_date = 'My first session date: ' + first_session.strftime('%m/%d/%Y')\n",
    "last_session_date = 'My last session date: '  + last_session.strftime('%m/%d/%Y')\n",
    "print(first_session_date)\n",
    "print(last_session_date)"
   ]
  },
  {
   "cell_type": "code",
   "execution_count": 21,
   "id": "5a6418cb",
   "metadata": {},
   "outputs": [
    {
     "name": "stdout",
     "output_type": "stream",
     "text": [
      "1957\n"
     ]
    }
   ],
   "source": [
    "#total time in days active\n",
    "total_days_between_sessions = last_session - first_session \n",
    "print(total_days_between_sessions.days)"
   ]
  },
  {
   "cell_type": "code",
   "execution_count": 22,
   "id": "6a987509",
   "metadata": {},
   "outputs": [],
   "source": [
    "#created a function to count session per year \n",
    "def countsession(year):\n",
    "    ses = 0\n",
    "    for s in df_activities['Start Time']:\n",
    "        if s.year == year:\n",
    "            ses = ses + 1\n",
    "           \n",
    "    print('Number of sessions in '+ str(year) + \" was: \"+ str(ses))"
   ]
  },
  {
   "cell_type": "code",
   "execution_count": 23,
   "id": "2f065ed5",
   "metadata": {},
   "outputs": [
    {
     "name": "stdout",
     "output_type": "stream",
     "text": [
      "Number of sessions in 2021 was: 154\n"
     ]
    }
   ],
   "source": [
    "countsession(2021)"
   ]
  },
  {
   "cell_type": "code",
   "execution_count": 24,
   "id": "ff7e697d",
   "metadata": {},
   "outputs": [
    {
     "name": "stdout",
     "output_type": "stream",
     "text": [
      "Number of sessions in 2020 was: 274\n"
     ]
    }
   ],
   "source": [
    "countsession(2020)"
   ]
  },
  {
   "cell_type": "code",
   "execution_count": 25,
   "id": "96583d93",
   "metadata": {},
   "outputs": [
    {
     "name": "stdout",
     "output_type": "stream",
     "text": [
      "Number of sessions in 2019 was: 205\n"
     ]
    }
   ],
   "source": [
    "countsession(2019)"
   ]
  },
  {
   "cell_type": "code",
   "execution_count": 26,
   "id": "9dec3079",
   "metadata": {},
   "outputs": [
    {
     "name": "stdout",
     "output_type": "stream",
     "text": [
      "Number of sessions in 2018 was: 292\n"
     ]
    }
   ],
   "source": [
    "countsession(2018)"
   ]
  },
  {
   "cell_type": "code",
   "execution_count": 27,
   "id": "a46dd1fe",
   "metadata": {},
   "outputs": [
    {
     "name": "stdout",
     "output_type": "stream",
     "text": [
      "Number of sessions in 2017 was: 243\n"
     ]
    }
   ],
   "source": [
    "countsession(2017)"
   ]
  },
  {
   "cell_type": "code",
   "execution_count": 28,
   "id": "271ab612",
   "metadata": {},
   "outputs": [
    {
     "name": "stdout",
     "output_type": "stream",
     "text": [
      "Number of sessions in 2016 was: 79\n"
     ]
    }
   ],
   "source": [
    "countsession(2016)"
   ]
  },
  {
   "cell_type": "code",
   "execution_count": 29,
   "id": "963ff9ae",
   "metadata": {},
   "outputs": [
    {
     "name": "stdout",
     "output_type": "stream",
     "text": [
      "{1: 108, 2: 71, 3: 90, 4: 108, 5: 82, 6: 100, 7: 144, 8: 144, 9: 105, 10: 88, 11: 97, 12: 110}\n"
     ]
    }
   ],
   "source": [
    "#no of session per month over the 5 years \n",
    "session_per_month = {1: 0, 2: 0, 3: 0, 4: 0, 5: 0, 6: 0, 7: 0, 8: 0, 9: 0, 10: 0, 11: 0, 12: 0}\n",
    "\n",
    "for s in df_activities['Start Time']:\n",
    "    month = s.month\n",
    "    session_per_month[month] +=1\n",
    "print(session_per_month)"
   ]
  },
  {
   "cell_type": "code",
   "execution_count": 30,
   "id": "addbbdde",
   "metadata": {},
   "outputs": [
    {
     "name": "stdout",
     "output_type": "stream",
     "text": [
      "{'AM': 555, 'PM': 692}\n"
     ]
    }
   ],
   "source": [
    "# Training in the morning vs evening \n",
    "session_count = {'AM': 0, 'PM': 0}\n",
    "\n",
    "for s in df_activities['Start Time']:\n",
    "    if s.hour < 12:\n",
    "        session_count['AM'] +=1\n",
    "    else:\n",
    "        session_count['PM'] +=1 \n",
    "        \n",
    "print(session_count)\n",
    "\n"
   ]
  },
  {
   "cell_type": "code",
   "execution_count": 31,
   "id": "e13a2f2f",
   "metadata": {},
   "outputs": [
    {
     "data": {
      "text/plain": [
       "Steps                              1232044.0\n",
       "Calories                            199205.0\n",
       "Elevation Gain (m)                   16750.0\n",
       "Duration (h:m:s)            32 days 14:37:58\n",
       "Elapsed Duration (h:m:s)    33 days 20:35:09\n",
       "Moving Duration (h:m:s)      9 days 12:09:41\n",
       "Distance (km)                     2314.00354\n",
       "dtype: object"
      ]
     },
     "execution_count": 31,
     "metadata": {},
     "output_type": "execute_result"
    }
   ],
   "source": [
    "sum_cols = ['Steps','Calories','Elevation Gain (m)',\n",
    "            'Duration (h:m:s)','Elapsed Duration (h:m:s)',\n",
    "            'Moving Duration (h:m:s)',\n",
    "            'Distance (km)']\n",
    "df_activities[sum_cols].sum()"
   ]
  },
  {
   "cell_type": "code",
   "execution_count": 32,
   "id": "f6370c42",
   "metadata": {},
   "outputs": [],
   "source": [
    "df_agg_type = df_activities.groupby('Activity Type').size().to_frame('Count')"
   ]
  },
  {
   "cell_type": "code",
   "execution_count": 33,
   "id": "9342c9bb",
   "metadata": {},
   "outputs": [
    {
     "name": "stdout",
     "output_type": "stream",
     "text": [
      "                   Count\n",
      "Activity Type           \n",
      "Cardio                39\n",
      "Cycling               40\n",
      "Hiking                 2\n",
      "Indoor Cycling       211\n",
      "Indoor Rowing          7\n",
      "Other                  3\n",
      "Pool Swimming          7\n",
      "Rowing                 3\n",
      "Running              291\n",
      "Strength Training    598\n",
      "Trail Running          5\n",
      "Treadmill Running     32\n",
      "Walking                9\n"
     ]
    }
   ],
   "source": [
    "print(df_agg_type)"
   ]
  },
  {
   "cell_type": "code",
   "execution_count": 34,
   "id": "6394625a",
   "metadata": {},
   "outputs": [
    {
     "data": {
      "image/png": "[encoded data removed]",
      "text/plain": [
       "<Figure size 648x648 with 1 Axes>"
      ]
     },
     "metadata": {},
     "output_type": "display_data"
    }
   ],
   "source": [
    "df_agg_type = df_agg_type[df_agg_type['Count']>2].sort_values(by='Count')\n",
    "plt.figure(figsize=(9,9))\n",
    "\n",
    "cmap = plt.get_cmap('Set2')\n",
    "colors = [cmap(i) for i in np.linspace(0, 1, 7)]\n",
    "plt.pie(df_agg_type['Count'], \n",
    "        labels=df_agg_type.index,\n",
    "        autopct='%1.0f%%',\n",
    "        textprops={'fontsize': 14},colors=colors)\n",
    "plt.show()"
   ]
  },
  {
   "cell_type": "code",
   "execution_count": 35,
   "id": "50cf5b6e",
   "metadata": {},
   "outputs": [
    {
     "data": {
      "text/plain": [
       "<AxesSubplot:xlabel='Count', ylabel='Activity Type'>"
      ]
     },
     "execution_count": 35,
     "metadata": {},
     "output_type": "execute_result"
    },
    {
     "data": {
      "image/png": "[encoded data removed]",
      "text/plain": [
       "<Figure size 432x288 with 1 Axes>"
      ]
     },
     "metadata": {
      "needs_background": "light"
     },
     "output_type": "display_data"
    }
   ],
   "source": [
    "sns.barplot(y=df_agg_type.index,x=df_agg_type.Count, orient='h')"
   ]
  },
  {
   "cell_type": "code",
   "execution_count": null,
   "id": "18a9aa69",
   "metadata": {},
   "outputs": [],
   "source": []
  }
 ],
 "metadata": {
  "kernelspec": {
   "display_name": "Python 3",
   "language": "python",
   "name": "python3"
  },
  "language_info": {
   "codemirror_mode": {
    "name": "ipython",
    "version": 3
   },
   "file_extension": ".py",
   "mimetype": "text/x-python",
   "name": "python",
   "nbconvert_exporter": "python",
   "pygments_lexer": "ipython3",
   "version": "3.8.10"
  }
 },
 "nbformat": 4,
 "nbformat_minor": 5
}
